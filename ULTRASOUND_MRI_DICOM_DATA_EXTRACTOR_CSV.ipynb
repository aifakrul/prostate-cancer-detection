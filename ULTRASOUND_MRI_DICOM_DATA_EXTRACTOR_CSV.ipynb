{
 "cells": [
  {
   "cell_type": "code",
   "execution_count": null,
   "metadata": {},
   "outputs": [],
   "source": [
    "import pandas as pd\n",
    "target_data_df = pd.read_excel('D:/partahabhai/Target Data_2019-12-05.xlsx')\n",
    "target_data_df.head()"
   ]
  },
  {
   "cell_type": "code",
   "execution_count": null,
   "metadata": {},
   "outputs": [],
   "source": [
    "for col in target_data_df.columns:\n",
    "    print(col)"
   ]
  },
  {
   "cell_type": "code",
   "execution_count": null,
   "metadata": {},
   "outputs": [],
   "source": [
    "# Get the unique values of 'UCLA Score' column\n",
    "target_data_df['UCLA Score'].unique()"
   ]
  },
  {
   "cell_type": "code",
   "execution_count": null,
   "metadata": {},
   "outputs": [],
   "source": [
    "# selecting rows based on condition\n",
    "#Note that scores of 0 or 1 may represent segmentation of non-malignant morphology, \n",
    "#or else cases for which a score could not be properly assigned.\n",
    "#Only scores of 2 or higher should be considered to correlate with risk of prostate cancer.\n",
    "benign_data_df = target_data_df[target_data_df['UCLA Score'] < 2]\n",
    "print('\\nResult benign dataframe :\\n')\n",
    "benign_data_df"
   ]
  },
  {
   "cell_type": "code",
   "execution_count": null,
   "metadata": {},
   "outputs": [],
   "source": [
    "benign_data_df['UCLA Score'].unique()"
   ]
  },
  {
   "cell_type": "code",
   "execution_count": null,
   "metadata": {},
   "outputs": [],
   "source": [
    "filter_benign_seriesInstanceUID_US = benign_data_df['seriesInstanceUID_US']\n",
    "filter_benign_seriesInstanceUID_US"
   ]
  },
  {
   "cell_type": "code",
   "execution_count": null,
   "metadata": {},
   "outputs": [],
   "source": [
    "malignant_data_df = target_data_df[target_data_df['UCLA Score'] >= 2]\n",
    "print('\\nResult malignant dataframe :\\n')\n",
    "malignant_data_df"
   ]
  },
  {
   "cell_type": "code",
   "execution_count": null,
   "metadata": {},
   "outputs": [],
   "source": [
    "malignant_data_df['UCLA Score'].unique()"
   ]
  },
  {
   "cell_type": "code",
   "execution_count": null,
   "metadata": {},
   "outputs": [],
   "source": [
    "filter_malignant_seriesInstanceUID_US = malignant_data_df['seriesInstanceUID_US']\n",
    "filter_malignant_seriesInstanceUID_US"
   ]
  },
  {
   "cell_type": "code",
   "execution_count": null,
   "metadata": {},
   "outputs": [],
   "source": [
    "import os\n",
    "\n",
    "\n",
    "global_list = []\n",
    "\n",
    "path = 'D:/partahabhai/dataset/manifest-1599764098812/Prostate-MRI-US-Biopsy'\n",
    "\n",
    "directory_contents = os.listdir(path)\n",
    "\n",
    "for i in directory_contents:\n",
    "    #print(i)\n",
    "    real_path = path+'/'+i\n",
    "    #print(real_path)\n",
    "    if os.path.isdir(real_path):\n",
    "        global_list.append(real_path)\n",
    "\n",
    "print(global_list)        "
   ]
  },
  {
   "cell_type": "code",
   "execution_count": null,
   "metadata": {},
   "outputs": [],
   "source": [
    "render_global_list = []\n",
    "substring = \"MRI PROSTATE\"\n",
    "\n",
    "for j in global_list:\n",
    "    if os.path.isdir(j):\n",
    "        directory_contents = os.listdir(j)\n",
    "        for k in directory_contents:\n",
    "            if k.find(substring) != -1:\n",
    "                temp_path = j+'/'+k\n",
    "                render_global_list.append(temp_path)\n",
    "                \n",
    "print(render_global_list)   "
   ]
  },
  {
   "cell_type": "code",
   "execution_count": null,
   "metadata": {},
   "outputs": [],
   "source": [
    "dcm_global_list = []\n",
    "\n",
    "for j in render_global_list:\n",
    "    if os.path.isdir(j):\n",
    "        directory_contents = os.listdir(j)\n",
    "        if(len(directory_contents)==1):\n",
    "            last_mile=directory_contents[0]\n",
    "            #print(last_mile)\n",
    "            last_path = j + '/'+ last_mile\n",
    "            dcm_global_list.append(last_path)\n",
    "\n",
    "print(dcm_global_list)      "
   ]
  },
  {
   "cell_type": "code",
   "execution_count": null,
   "metadata": {},
   "outputs": [],
   "source": [
    "#Each dictionary contains many dicm MRI Images\n",
    "dcm_db= {}\n",
    "for j in dcm_global_list:\n",
    "    arr = os.listdir(j)\n",
    "    dcm_db[j]=arr\n",
    "\n",
    "print(dcm_db)        "
   ]
  },
  {
   "cell_type": "code",
   "execution_count": null,
   "metadata": {},
   "outputs": [],
   "source": [
    "import pydicom\n",
    "import matplotlib.pyplot as plt\n",
    "from PIL import Image as im\n",
    "\n",
    "#ds = pydicom.filereader.dcmread(dcm_file_list[0])\n",
    "#print(ds.PatientID)\n",
    "#print(ds.SeriesInstanceUID)\n",
    "\n",
    "#for i in dcm_file_list:\n",
    "#    ds = pydicom.filereader.dcmread(i) "
   ]
  },
  {
   "cell_type": "code",
   "execution_count": null,
   "metadata": {},
   "outputs": [],
   "source": [
    "# Iterating over values\n",
    "all_dicom_files = []\n",
    "for path, dcmfiles in dcm_db.items():\n",
    "    for i in dcmfiles:\n",
    "        file_full_path = path+'/'+i\n",
    "        all_dicom_files.append(file_full_path)\n",
    "        #print(file_full_path)\n",
    "    #print(path, \":\", dcmfiles)\n",
    "    "
   ]
  },
  {
   "cell_type": "code",
   "execution_count": null,
   "metadata": {},
   "outputs": [],
   "source": [
    "#Test One File\n",
    "all_dicom_files[0]\n",
    "ds  = pydicom.filereader.dcmread(all_dicom_files[0])\n",
    "print(ds)\n",
    "my_array = ds.pixel_array\n",
    "print('Shape is: ', my_array.shape)"
   ]
  },
  {
   "cell_type": "code",
   "execution_count": null,
   "metadata": {},
   "outputs": [],
   "source": [
    "plt.imshow(my_array, cmap=plt.cm.gray)\n",
    "plt.show()"
   ]
  },
  {
   "cell_type": "code",
   "execution_count": null,
   "metadata": {},
   "outputs": [],
   "source": [
    "PatientID = []\n",
    "SeriesInstanceUID = []\n",
    "DicmPath = []\n",
    "\n",
    "for i in all_dicom_files:\n",
    "    \n",
    "    ds  = pydicom.filereader.dcmread(i)\n",
    "    \n",
    "    PID = ds.PatientID\n",
    "    SIUID = ds.SeriesInstanceUID\n",
    "    \n",
    "    PatientID.append(PID)\n",
    "    SeriesInstanceUID.append(SIUID)\n",
    "    DicmPath.append(i)\n"
   ]
  },
  {
   "cell_type": "code",
   "execution_count": null,
   "metadata": {},
   "outputs": [],
   "source": [
    "list_of_tuples = list(zip(PatientID, SeriesInstanceUID, DicmPath)) \n",
    "list_of_tuples"
   ]
  },
  {
   "cell_type": "code",
   "execution_count": null,
   "metadata": {},
   "outputs": [],
   "source": [
    "df_patient_details = pd.DataFrame(list_of_tuples, columns = ['PatientID', 'SeriesInstanceUID', 'DicmPath']) \n",
    "df_patient_details"
   ]
  },
  {
   "cell_type": "code",
   "execution_count": null,
   "metadata": {},
   "outputs": [],
   "source": [
    "df_patient_details.to_csv('D:/partahabhai/df_patient_MRI_details.csv', index=False)"
   ]
  },
  {
   "cell_type": "code",
   "execution_count": null,
   "metadata": {},
   "outputs": [],
   "source": [
    "filter_benign_seriesInstanceUID_MR = benign_data_df['seriesInstanceUID_MR']\n",
    "filter_benign_seriesInstanceUID_MR"
   ]
  },
  {
   "cell_type": "code",
   "execution_count": null,
   "metadata": {},
   "outputs": [],
   "source": [
    "filter_malignant_seriesInstanceUID_MR = malignant_data_df['seriesInstanceUID_MR']\n",
    "filter_malignant_seriesInstanceUID_MR"
   ]
  },
  {
   "cell_type": "code",
   "execution_count": null,
   "metadata": {},
   "outputs": [],
   "source": [
    "benign_data_df"
   ]
  },
  {
   "cell_type": "code",
   "execution_count": null,
   "metadata": {},
   "outputs": [],
   "source": [
    "malignant_data_df"
   ]
  },
  {
   "cell_type": "code",
   "execution_count": null,
   "metadata": {},
   "outputs": [],
   "source": [
    "#df_patient_details['SeriesInstanceUID']\n",
    "benign_dataset = df_patient_details[df_patient_details['SeriesInstanceUID'].isin(filter_benign_seriesInstanceUID_MR)]\n",
    "benign_dataset.to_csv('D:/partahabhai/benign_dataset_MRI.csv', index=False)\n",
    "benign_dataset.reset_index()"
   ]
  },
  {
   "cell_type": "code",
   "execution_count": null,
   "metadata": {},
   "outputs": [],
   "source": [
    "malignant_dataset = df_patient_details[df_patient_details['SeriesInstanceUID'].isin(filter_malignant_seriesInstanceUID_MR)]\n",
    "malignant_dataset.to_csv('D:/partahabhai/malignant_dataset_MRI.csv', index=False)\n",
    "malignant_dataset.reset_index()"
   ]
  },
  {
   "cell_type": "code",
   "execution_count": null,
   "metadata": {},
   "outputs": [],
   "source": [
    "import pandas as pd\n",
    "b = pd.read_csv('D:/partahabhai/benign_dataset_MRI.csv')\n",
    "m = pd.read_csv('D:/partahabhai/malignant_dataset_MRI.csv')"
   ]
  },
  {
   "cell_type": "code",
   "execution_count": null,
   "metadata": {},
   "outputs": [],
   "source": [
    "print(b.count())\n",
    "print(m.count())"
   ]
  },
  {
   "cell_type": "code",
   "execution_count": null,
   "metadata": {},
   "outputs": [],
   "source": [
    "b.drop_duplicates(subset =[\"PatientID\"], inplace = True)\n",
    "m.drop_duplicates(subset =[\"PatientID\"], inplace = True)"
   ]
  },
  {
   "cell_type": "code",
   "execution_count": null,
   "metadata": {},
   "outputs": [],
   "source": [
    "b.count()"
   ]
  },
  {
   "cell_type": "code",
   "execution_count": null,
   "metadata": {},
   "outputs": [],
   "source": [
    "m.count()"
   ]
  },
  {
   "cell_type": "code",
   "execution_count": null,
   "metadata": {},
   "outputs": [],
   "source": [
    "malignant_dataset=m\n",
    "benign_dataset =b"
   ]
  },
  {
   "cell_type": "code",
   "execution_count": null,
   "metadata": {},
   "outputs": [],
   "source": [
    "malignant_dataset.count()"
   ]
  },
  {
   "cell_type": "code",
   "execution_count": null,
   "metadata": {},
   "outputs": [],
   "source": [
    "benign_dataset.count()"
   ]
  },
  {
   "cell_type": "code",
   "execution_count": null,
   "metadata": {},
   "outputs": [],
   "source": [
    "#unique patientid\n",
    "benign_dataset.drop_duplicates(subset =[\"PatientID\"], inplace = True)\n",
    "malignant_dataset.drop_duplicates(subset =[\"PatientID\"], inplace = True)"
   ]
  },
  {
   "cell_type": "code",
   "execution_count": null,
   "metadata": {},
   "outputs": [],
   "source": [
    "malignant_images = malignant_dataset['DicmPath']\n",
    "benign_images = benign_dataset['DicmPath']"
   ]
  },
  {
   "cell_type": "code",
   "execution_count": null,
   "metadata": {},
   "outputs": [],
   "source": [
    "m_images = malignant_images.tolist()"
   ]
  },
  {
   "cell_type": "code",
   "execution_count": null,
   "metadata": {},
   "outputs": [],
   "source": [
    "b_images= benign_images.tolist()"
   ]
  },
  {
   "cell_type": "code",
   "execution_count": null,
   "metadata": {},
   "outputs": [],
   "source": [
    "import cv2\n",
    "import numpy as np\n",
    "from PIL import Image"
   ]
  },
  {
   "cell_type": "code",
   "execution_count": null,
   "metadata": {},
   "outputs": [],
   "source": [
    "dir_path_benign = 'D:/partahabhai/benign_images_mri/'\n",
    "count=1\n",
    "for each_dicom in b_images:\n",
    "    ds = pydicom.filereader.dcmread(each_dicom)\n",
    "    new_image = ds.pixel_array.astype(float)\n",
    "    scaled_image = (np.maximum(new_image, 0) / new_image.max()) * 255.0\n",
    "    scaled_image = np.uint8(scaled_image)\n",
    "    final_image = Image.fromarray(scaled_image)\n",
    "    final_image.save(dir_path_benign+str(count)+'.png')\n",
    "    count = count+1    "
   ]
  },
  {
   "cell_type": "code",
   "execution_count": null,
   "metadata": {},
   "outputs": [],
   "source": [
    "dir_path_malignant = 'D:/partahabhai/malignant_images_mri/'\n",
    "count=1\n",
    "for each_dicom in m_images:\n",
    "    ds = pydicom.filereader.dcmread(each_dicom)\n",
    "    new_image = ds.pixel_array.astype(float)\n",
    "    scaled_image = (np.maximum(new_image, 0) / new_image.max()) * 255.0\n",
    "    scaled_image = np.uint8(scaled_image)\n",
    "    final_image = Image.fromarray(scaled_image)\n",
    "    final_image.save(dir_path_malignant+str(count)+'.png')\n",
    "    count = count+1    "
   ]
  },
  {
   "cell_type": "code",
   "execution_count": null,
   "metadata": {},
   "outputs": [],
   "source": []
  }
 ],
 "metadata": {
  "kernelspec": {
   "display_name": "Python 3",
   "language": "python",
   "name": "python3"
  },
  "language_info": {
   "codemirror_mode": {
    "name": "ipython",
    "version": 3
   },
   "file_extension": ".py",
   "mimetype": "text/x-python",
   "name": "python",
   "nbconvert_exporter": "python",
   "pygments_lexer": "ipython3",
   "version": "3.8.5"
  }
 },
 "nbformat": 4,
 "nbformat_minor": 4
}
